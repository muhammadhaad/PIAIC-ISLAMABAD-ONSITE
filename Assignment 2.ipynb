{
 "cells": [
  {
   "cell_type": "code",
   "execution_count": 127,
   "metadata": {},
   "outputs": [
    {
     "name": "stdout",
     "output_type": "stream",
     "text": [
      "muhammad haad bin zahid\n"
     ]
    }
   ],
   "source": [
    "# casefold: converts to casefolded(lower case) strings\n",
    "name = \"MuHaMmaD haad BIN ZahiD\"\n",
    "name = name.casefold()\n",
    "print(name)"
   ]
  },
  {
   "cell_type": "code",
   "execution_count": 128,
   "metadata": {},
   "outputs": [
    {
     "name": "stdout",
     "output_type": "stream",
     "text": [
      "Muhammad haad bin zahid\n"
     ]
    }
   ],
   "source": [
    "#capitalize: Converts first character to Capital Letter\n",
    "print(name.capitalize())"
   ]
  },
  {
   "cell_type": "code",
   "execution_count": 129,
   "metadata": {},
   "outputs": [
    {
     "name": "stdout",
     "output_type": "stream",
     "text": [
      "            PIAIC             \n",
      "~~~~~~~~~~~~PIAIC~~~~~~~~~~~~~\n"
     ]
    }
   ],
   "source": [
    "# center: Pads string with specified character, parameters(width,fillchar)\n",
    "string = \"PIAIC\"\n",
    "print(string.center(30))\n",
    "# optional parameter\n",
    "print(string.center(30,'~'))"
   ]
  },
  {
   "cell_type": "code",
   "execution_count": 130,
   "metadata": {},
   "outputs": [
    {
     "name": "stdout",
     "output_type": "stream",
     "text": [
      "5\n",
      "1\n",
      "2\n"
     ]
    }
   ],
   "source": [
    "# count: returns occurrences of substring in string\n",
    "string = \"Every search begins wd beginners luck and every search ends with the victors being tested\"\n",
    "print(string.count(\"t\"))\n",
    "\n",
    "print(string.count(\"to\"))\n",
    "\n",
    "# optional parameters count(\"substring\",start,end\")\n",
    "print(string.count(\"th\",5,70))"
   ]
  },
  {
   "cell_type": "code",
   "execution_count": 131,
   "metadata": {},
   "outputs": [
    {
     "name": "stdout",
     "output_type": "stream",
     "text": [
      "I Love Pakistan\n",
      "b'I Love Pakistan'\n"
     ]
    }
   ],
   "source": [
    "# encode: returns encoded string of given string\n",
    "string = \"I Love Pakistan\"\n",
    "print(string)\n",
    "print(string.encode())"
   ]
  },
  {
   "cell_type": "code",
   "execution_count": 132,
   "metadata": {},
   "outputs": [
    {
     "name": "stdout",
     "output_type": "stream",
     "text": [
      "False\n",
      "True\n",
      "False\n",
      "True\n"
     ]
    }
   ],
   "source": [
    "# endswith: Checks if String Ends with the Specified Suffix\n",
    "string = \"The way to get started is to quit talking and begin doing.\"\n",
    "print(string.endswith(\"the way started\"))\n",
    "print(string.endswith(\"and begin doing.\"))\n",
    "\n",
    "# parameters(\"string,start,end\")\n",
    "print(string.endswith(\"and begin doing.\",0,35))\n",
    "print(string.endswith(\"and begin doing.\",40,70))"
   ]
  },
  {
   "cell_type": "code",
   "execution_count": 133,
   "metadata": {},
   "outputs": [
    {
     "name": "stdout",
     "output_type": "stream",
     "text": [
      "Good   Morning\n",
      "Good     Morning\n",
      "Good            Morning\n"
     ]
    }
   ],
   "source": [
    "# expandtabs: Replaces Tab character With Spaces\n",
    "string = \"Good \\t Morning\"\n",
    "print(string.expandtabs(2))\n",
    "print(string.expandtabs(4))\n",
    "print(string.expandtabs(15))"
   ]
  },
  {
   "cell_type": "code",
   "execution_count": 134,
   "metadata": {},
   "outputs": [
    {
     "name": "stdout",
     "output_type": "stream",
     "text": [
      "16\n",
      "5\n"
     ]
    }
   ],
   "source": [
    "# find: Returns the index of first occurrence of substring\n",
    "string = \"lets go for the dinner.\"\n",
    "print(string.find(\"dinner\"))\n",
    "\n",
    "print(string.find(\"go\",0,25))"
   ]
  },
  {
   "cell_type": "code",
   "execution_count": 135,
   "metadata": {},
   "outputs": [
    {
     "name": "stdout",
     "output_type": "stream",
     "text": [
      "MS zahid, good  UNCLE\n",
      "MS UNCLE, good zahid\n",
      "MS zahid, good UNCLE\n",
      "Zindabad ,Pakistan\n",
      "Pakistan ,Zindabad\n"
     ]
    }
   ],
   "source": [
    "# format: formats string into better output\n",
    "print(\"MS {}, good {}\".format(\"zahid\",\" UNCLE\"))\n",
    "print(\"MS {1}, good {0}\".format(\"zahid\",\"UNCLE\"))\n",
    "print(\"MS {0}, good {1}\".format(\"zahid\",\"UNCLE\"))\n",
    "# working with dict\n",
    "point = {'x':'Zindabad','y':'Pakistan'}\n",
    "print('{x} ,{y}'.format(**point))\n",
    "print('{y} ,{x}'.format(**point))"
   ]
  },
  {
   "cell_type": "code",
   "execution_count": 136,
   "metadata": {},
   "outputs": [
    {
     "name": "stdout",
     "output_type": "stream",
     "text": [
      "Zindabad Pakistan\n",
      "I Love Pakistan\n"
     ]
    }
   ],
   "source": [
    "# format_map: Formats the String Using Dictionary\n",
    "print('{x} {y}'.format_map(point))\n",
    "\n",
    "point = {'x':\"I\",'y':\"Love\", 'z': \"Pakistan\"}\n",
    "print('{x} {y} {z}'.format_map(point))"
   ]
  },
  {
   "cell_type": "code",
   "execution_count": 137,
   "metadata": {},
   "outputs": [
    {
     "name": "stdout",
     "output_type": "stream",
     "text": [
      "11\n",
      "29\n"
     ]
    }
   ],
   "source": [
    "# index: Returns Index of Substring\n",
    "string = \"The way to get started is to quit talking and begin doing.\"\n",
    "print(string.index('get'))\n",
    "\n",
    "print(string.index('quit',28 ,65))"
   ]
  },
  {
   "cell_type": "code",
   "execution_count": 138,
   "metadata": {},
   "outputs": [
    {
     "name": "stdout",
     "output_type": "stream",
     "text": [
      "False\n",
      "True\n",
      "True\n",
      "False\n"
     ]
    }
   ],
   "source": [
    "# isalnum: Checks Alphanumeric Character\n",
    "string = \"4jahdjkhf^\"\n",
    "print(string.isalnum())\n",
    "string1 = \"851dfhdfjshjka1\"\n",
    "print(string1.isalnum())\n",
    "string1 = \"nopy\"\n",
    "print(string1.isalnum())\n",
    "string1 = \"nopy@8511\"\n",
    "print(string1.isalnum())"
   ]
  },
  {
   "cell_type": "code",
   "execution_count": 139,
   "metadata": {},
   "outputs": [
    {
     "name": "stdout",
     "output_type": "stream",
     "text": [
      "True\n",
      "False\n"
     ]
    }
   ],
   "source": [
    "# isalpha\n",
    "string = \"hhasdfjkka\"\n",
    "print(string.isalpha())\n",
    "\n",
    "string = \"ldksjfoweijfwmf934,mncds\"\n",
    "print(string.isalpha())"
   ]
  },
  {
   "cell_type": "code",
   "execution_count": 140,
   "metadata": {},
   "outputs": [
    {
     "name": "stdout",
     "output_type": "stream",
     "text": [
      "False\n",
      "True\n"
     ]
    }
   ],
   "source": [
    "# isdigit\n",
    "string = \"nopyo3248\"\n",
    "print(string.isdigit())\n",
    "\n",
    "string = \"8511\"\n",
    "print(string.isdigit())"
   ]
  },
  {
   "cell_type": "code",
   "execution_count": 141,
   "metadata": {},
   "outputs": [
    {
     "name": "stdout",
     "output_type": "stream",
     "text": [
      "True\n"
     ]
    }
   ],
   "source": [
    "# isprintable\n",
    "string = \"p a k i s t a n\"\n",
    "print(string.isprintable())"
   ]
  },
  {
   "cell_type": "code",
   "execution_count": 142,
   "metadata": {},
   "outputs": [
    {
     "name": "stdout",
     "output_type": "stream",
     "text": [
      "True\n",
      "False\n"
     ]
    }
   ],
   "source": [
    "\n",
    "# isspace\n",
    "string = \"  \"\n",
    "print(string.isspace())\n",
    "\n",
    "\n",
    "string = \"omer \"\n",
    "print(string.isspace())"
   ]
  },
  {
   "cell_type": "code",
   "execution_count": 143,
   "metadata": {},
   "outputs": [
    {
     "name": "stdout",
     "output_type": "stream",
     "text": [
      "True\n"
     ]
    },
    {
     "data": {
      "text/plain": [
       "False"
      ]
     },
     "execution_count": 143,
     "metadata": {},
     "output_type": "execute_result"
    }
   ],
   "source": [
    "# islower\n",
    "string = \"creative thinking\"\n",
    "print(string.islower())\n",
    "\n",
    "s = \"Creative Thinking\"\n",
    "s.islower()"
   ]
  },
  {
   "cell_type": "code",
   "execution_count": 144,
   "metadata": {},
   "outputs": [
    {
     "name": "stdout",
     "output_type": "stream",
     "text": [
      "True\n"
     ]
    },
    {
     "data": {
      "text/plain": [
       "False"
      ]
     },
     "execution_count": 144,
     "metadata": {},
     "output_type": "execute_result"
    }
   ],
   "source": [
    "# isnumeric\n",
    "s = \"8511\"\n",
    "print(s.isnumeric())\n",
    "word = \"nopy 8511\"\n",
    "word.isnumeric()"
   ]
  },
  {
   "cell_type": "code",
   "execution_count": 145,
   "metadata": {},
   "outputs": [
    {
     "name": "stdout",
     "output_type": "stream",
     "text": [
      "True\n",
      "False\n"
     ]
    },
    {
     "data": {
      "text/plain": [
       "True"
      ]
     },
     "execution_count": 145,
     "metadata": {},
     "output_type": "execute_result"
    }
   ],
   "source": [
    "# isidentifier\n",
    "string = 'def'\n",
    "print(string.isidentifier())\n",
    "\n",
    "word = 'c++'\n",
    "print(word.isidentifier())\n",
    "\n",
    "s = \"react\"\n",
    "s.isidentifier()"
   ]
  },
  {
   "cell_type": "code",
   "execution_count": 146,
   "metadata": {},
   "outputs": [
    {
     "name": "stdout",
     "output_type": "stream",
     "text": [
      "False\n",
      "True\n",
      "False\n",
      "True\n"
     ]
    }
   ],
   "source": [
    "# istitle\n",
    "string = \"i am good\"\n",
    "print(string.istitle())\n",
    "\n",
    "string = \"I Am Good\"\n",
    "print(string.istitle())\n",
    "\n",
    "string = \"i am Good\"\n",
    "print(string.istitle())\n",
    "string = \"13 I Am @Good\"\n",
    "print(string.istitle())"
   ]
  },
  {
   "cell_type": "code",
   "execution_count": 147,
   "metadata": {},
   "outputs": [
    {
     "name": "stdout",
     "output_type": "stream",
     "text": [
      "True\n",
      "False\n"
     ]
    }
   ],
   "source": [
    "# isupper\n",
    "string = \"CHAMPIONS\"\n",
    "print(string.isupper())\n",
    "\n",
    "string = \"i am good\"\n",
    "print(string.isupper())"
   ]
  },
  {
   "cell_type": "code",
   "execution_count": 148,
   "metadata": {},
   "outputs": [
    {
     "name": "stdout",
     "output_type": "stream",
     "text": [
      "P.I.A.I.C\n"
     ]
    }
   ],
   "source": [
    "# join : returns a concatinated string\n",
    "string = 'PIAIC'\n",
    "sep = '.'\n",
    "print(sep.join(string))"
   ]
  },
  {
   "cell_type": "code",
   "execution_count": 149,
   "metadata": {},
   "outputs": [
    {
     "name": "stdout",
     "output_type": "stream",
     "text": [
      "PIAIC     Islamabad\n",
      "PIAIC_____Islamabad\n"
     ]
    }
   ],
   "source": [
    "# ljust: returns left-justified string of given width\n",
    "s = \"PIAIC\"\n",
    "print(s.ljust(10) + \"Islamabad\")\n",
    "print(s.ljust(10,'_') + \"Islamabad\")"
   ]
  },
  {
   "cell_type": "code",
   "execution_count": 150,
   "metadata": {},
   "outputs": [
    {
     "data": {
      "text/plain": [
       "'piaic islamabad'"
      ]
     },
     "execution_count": 150,
     "metadata": {},
     "output_type": "execute_result"
    }
   ],
   "source": [
    "# lower\n",
    "s = \"PIAIC Islamabad\"\n",
    "s.lower()"
   ]
  },
  {
   "cell_type": "code",
   "execution_count": 151,
   "metadata": {},
   "outputs": [
    {
     "name": "stdout",
     "output_type": "stream",
     "text": [
      "PIAIC    Islamabad\n",
      "   PIAIC    Islamabad  \n",
      "PIAIC    Islamabad  \n",
      "   PIAIC    Islamabad\n"
     ]
    }
   ],
   "source": [
    "# strip , rstrip, lstrip\n",
    "s = \"   PIAIC    Islamabad  \"\n",
    "print(s.strip())\n",
    "print(s.strip('Isl'))\n",
    "print(s.lstrip())\n",
    "print(s.rstrip())"
   ]
  },
  {
   "cell_type": "code",
   "execution_count": 152,
   "metadata": {},
   "outputs": [
    {
     "name": "stdout",
     "output_type": "stream",
     "text": [
      "('artificial intelligence is ', 'my', ' passion')\n"
     ]
    }
   ],
   "source": [
    "# partition : Returns a Tuple\n",
    "string = \"artificial intelligence is my passion\"\n",
    "print(string.partition('my'))"
   ]
  },
  {
   "cell_type": "code",
   "execution_count": 153,
   "metadata": {},
   "outputs": [
    {
     "name": "stdout",
     "output_type": "stream",
     "text": [
      "('AI is ', 'my ', 'passion')\n"
     ]
    }
   ],
   "source": [
    "# rpartition\n",
    "string = \"AI is my passion\"\n",
    "print(string.rpartition('my '))"
   ]
  },
  {
   "cell_type": "code",
   "execution_count": 154,
   "metadata": {},
   "outputs": [
    {
     "name": "stdout",
     "output_type": "stream",
     "text": [
      "['machine', 'learning', 'is', 'my', 'passion']\n",
      "['machine', 'learning', 'is', 'my', 'passion']\n"
     ]
    }
   ],
   "source": [
    "# split : Splits String from Left and returns a list\n",
    "string = \"machine learning is my passion\"\n",
    "print(string.split())\n",
    "\n",
    "print(string.rsplit())"
   ]
  },
  {
   "cell_type": "code",
   "execution_count": 155,
   "metadata": {},
   "outputs": [
    {
     "name": "stdout",
     "output_type": "stream",
     "text": [
      "['Blue ', ' Green ', ' Red ', ' Yellow']\n",
      "['Blue \\r', ' Green \\r', ' Red \\r', ' Yellow']\n",
      "['Blue Green Red Yellow']\n"
     ]
    }
   ],
   "source": [
    "# splitlines: Splits String at Line Boundaries and returns a list\n",
    "grocery = 'Blue \\r Green \\r Red \\r Yellow'\n",
    "\n",
    "print(grocery.splitlines())\n",
    "print(grocery.splitlines(True))\n",
    "\n",
    "grocery = 'Blue Green Red Yellow'\n",
    "print(grocery.splitlines(True))"
   ]
  },
  {
   "cell_type": "code",
   "execution_count": 156,
   "metadata": {},
   "outputs": [
    {
     "name": "stdout",
     "output_type": "stream",
     "text": [
      "CREATIVE thinking\n"
     ]
    }
   ],
   "source": [
    "# swapcase: swap uppercase characters to lowercase; vice versa\n",
    "string = \"creative THINKING\"\n",
    "print(string.swapcase())"
   ]
  },
  {
   "cell_type": "code",
   "execution_count": 157,
   "metadata": {},
   "outputs": [
    {
     "name": "stdout",
     "output_type": "stream",
     "text": [
      "0program is fun\n",
      "000000program is fun\n",
      "program is fun\n"
     ]
    }
   ],
   "source": [
    "# zfill: returns a copy of the string with '0' characters padded to the left.\n",
    "text = \"program is fun\"\n",
    "print(text.zfill(15))\n",
    "print(text.zfill(20))\n",
    "print(text.zfill(10))"
   ]
  }
 ],
 "metadata": {
  "kernelspec": {
   "display_name": "Python 3",
   "language": "python",
   "name": "python3"
  },
  "language_info": {
   "codemirror_mode": {
    "name": "ipython",
    "version": 3
   },
   "file_extension": ".py",
   "mimetype": "text/x-python",
   "name": "python",
   "nbconvert_exporter": "python",
   "pygments_lexer": "ipython3",
   "version": "3.7.4"
  }
 },
 "nbformat": 4,
 "nbformat_minor": 4
}
